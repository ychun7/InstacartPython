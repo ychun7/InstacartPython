{
 "cells": [
  {
   "cell_type": "markdown",
   "id": "cf6e55a9",
   "metadata": {},
   "source": [
    "Exercise 4.10 Part 1\n",
    "#1. Import ords_prods_customer_combined\n",
    "#2. Explain security implications/PII that exists in the data \n",
    "#3a. Create Region column\n",
    "#3b. Determine whether there’s a difference in spending habits between the different U.S. regions.\n",
    "#4. Create an exclusion flag for low-activity customers\n",
    "#5. Create a profiling variable based on age, income, certain goods in the “department_id” column, and number of dependents.\n",
    "#6. Create an appropriate visualization to show the distribution of profiles\n",
    "#7. Aggregate the max, mean, and min variables on a customer-profile level for usage frequency and expenditure.\n",
    "#8. Compare your customer profiles with regions and departments.\n",
    "#9. Produce suitable charts to illustrate your results \n",
    "#10. Export final data\n"
   ]
  },
  {
   "cell_type": "code",
   "execution_count": 1,
   "id": "2625073a",
   "metadata": {},
   "outputs": [],
   "source": [
    "#Import Libraries\n",
    "import pandas as pd\n",
    "import numpy as np\n",
    "import os\n",
    "import matplotlib.pyplot as plt\n",
    "import seaborn as sns\n",
    "import scipy"
   ]
  },
  {
   "cell_type": "code",
   "execution_count": 2,
   "id": "11c9f54e",
   "metadata": {},
   "outputs": [],
   "source": [
    "# define path\n",
    "path=r'/Users/yeji/Documents/Career Foundry/Achievement 4/Instacart Basket Analysis'"
   ]
  },
  {
   "cell_type": "code",
   "execution_count": 3,
   "id": "243c8009",
   "metadata": {},
   "outputs": [],
   "source": [
    "# 1. Import ords_pros_customers_combined\n",
    "df=pd.read_pickle(os.path.join(path,'02 Data', 'Prepared Data','ords_prods_customer_combined.pkl'))"
   ]
  },
  {
   "cell_type": "code",
   "execution_count": 4,
   "id": "0efbb4b1",
   "metadata": {},
   "outputs": [
    {
     "data": {
      "text/html": [
       "<div>\n",
       "<style scoped>\n",
       "    .dataframe tbody tr th:only-of-type {\n",
       "        vertical-align: middle;\n",
       "    }\n",
       "\n",
       "    .dataframe tbody tr th {\n",
       "        vertical-align: top;\n",
       "    }\n",
       "\n",
       "    .dataframe thead th {\n",
       "        text-align: right;\n",
       "    }\n",
       "</style>\n",
       "<table border=\"1\" class=\"dataframe\">\n",
       "  <thead>\n",
       "    <tr style=\"text-align: right;\">\n",
       "      <th></th>\n",
       "      <th>product_id</th>\n",
       "      <th>product_name</th>\n",
       "      <th>aisle_id</th>\n",
       "      <th>department_id</th>\n",
       "      <th>prices</th>\n",
       "      <th>order_id</th>\n",
       "      <th>user_id</th>\n",
       "      <th>order_number</th>\n",
       "      <th>orders_day_of_week</th>\n",
       "      <th>order_hour_of_day</th>\n",
       "      <th>...</th>\n",
       "      <th>First Name</th>\n",
       "      <th>Last Name</th>\n",
       "      <th>Gender</th>\n",
       "      <th>State</th>\n",
       "      <th>Age</th>\n",
       "      <th>date_joined</th>\n",
       "      <th>Dependents</th>\n",
       "      <th>Family Status</th>\n",
       "      <th>income</th>\n",
       "      <th>merge</th>\n",
       "    </tr>\n",
       "  </thead>\n",
       "  <tbody>\n",
       "    <tr>\n",
       "      <th>0</th>\n",
       "      <td>1</td>\n",
       "      <td>Chocolate Sandwich Cookies</td>\n",
       "      <td>61</td>\n",
       "      <td>19</td>\n",
       "      <td>5.8</td>\n",
       "      <td>3139998</td>\n",
       "      <td>138</td>\n",
       "      <td>28</td>\n",
       "      <td>6</td>\n",
       "      <td>11</td>\n",
       "      <td>...</td>\n",
       "      <td>Charles</td>\n",
       "      <td>Cox</td>\n",
       "      <td>Male</td>\n",
       "      <td>Minnesota</td>\n",
       "      <td>81</td>\n",
       "      <td>8/1/2019</td>\n",
       "      <td>1</td>\n",
       "      <td>married</td>\n",
       "      <td>49620</td>\n",
       "      <td>both</td>\n",
       "    </tr>\n",
       "    <tr>\n",
       "      <th>1</th>\n",
       "      <td>1</td>\n",
       "      <td>Chocolate Sandwich Cookies</td>\n",
       "      <td>61</td>\n",
       "      <td>19</td>\n",
       "      <td>5.8</td>\n",
       "      <td>1977647</td>\n",
       "      <td>138</td>\n",
       "      <td>30</td>\n",
       "      <td>6</td>\n",
       "      <td>17</td>\n",
       "      <td>...</td>\n",
       "      <td>Charles</td>\n",
       "      <td>Cox</td>\n",
       "      <td>Male</td>\n",
       "      <td>Minnesota</td>\n",
       "      <td>81</td>\n",
       "      <td>8/1/2019</td>\n",
       "      <td>1</td>\n",
       "      <td>married</td>\n",
       "      <td>49620</td>\n",
       "      <td>both</td>\n",
       "    </tr>\n",
       "    <tr>\n",
       "      <th>2</th>\n",
       "      <td>907</td>\n",
       "      <td>Premium Sliced Bacon</td>\n",
       "      <td>106</td>\n",
       "      <td>12</td>\n",
       "      <td>20.0</td>\n",
       "      <td>3160996</td>\n",
       "      <td>138</td>\n",
       "      <td>1</td>\n",
       "      <td>5</td>\n",
       "      <td>13</td>\n",
       "      <td>...</td>\n",
       "      <td>Charles</td>\n",
       "      <td>Cox</td>\n",
       "      <td>Male</td>\n",
       "      <td>Minnesota</td>\n",
       "      <td>81</td>\n",
       "      <td>8/1/2019</td>\n",
       "      <td>1</td>\n",
       "      <td>married</td>\n",
       "      <td>49620</td>\n",
       "      <td>both</td>\n",
       "    </tr>\n",
       "    <tr>\n",
       "      <th>3</th>\n",
       "      <td>907</td>\n",
       "      <td>Premium Sliced Bacon</td>\n",
       "      <td>106</td>\n",
       "      <td>12</td>\n",
       "      <td>20.0</td>\n",
       "      <td>2254091</td>\n",
       "      <td>138</td>\n",
       "      <td>10</td>\n",
       "      <td>5</td>\n",
       "      <td>14</td>\n",
       "      <td>...</td>\n",
       "      <td>Charles</td>\n",
       "      <td>Cox</td>\n",
       "      <td>Male</td>\n",
       "      <td>Minnesota</td>\n",
       "      <td>81</td>\n",
       "      <td>8/1/2019</td>\n",
       "      <td>1</td>\n",
       "      <td>married</td>\n",
       "      <td>49620</td>\n",
       "      <td>both</td>\n",
       "    </tr>\n",
       "    <tr>\n",
       "      <th>4</th>\n",
       "      <td>1000</td>\n",
       "      <td>Apricots</td>\n",
       "      <td>18</td>\n",
       "      <td>10</td>\n",
       "      <td>12.9</td>\n",
       "      <td>505689</td>\n",
       "      <td>138</td>\n",
       "      <td>9</td>\n",
       "      <td>6</td>\n",
       "      <td>12</td>\n",
       "      <td>...</td>\n",
       "      <td>Charles</td>\n",
       "      <td>Cox</td>\n",
       "      <td>Male</td>\n",
       "      <td>Minnesota</td>\n",
       "      <td>81</td>\n",
       "      <td>8/1/2019</td>\n",
       "      <td>1</td>\n",
       "      <td>married</td>\n",
       "      <td>49620</td>\n",
       "      <td>both</td>\n",
       "    </tr>\n",
       "  </tbody>\n",
       "</table>\n",
       "<p>5 rows × 35 columns</p>\n",
       "</div>"
      ],
      "text/plain": [
       "   product_id                product_name  aisle_id  department_id  prices  \\\n",
       "0           1  Chocolate Sandwich Cookies        61             19     5.8   \n",
       "1           1  Chocolate Sandwich Cookies        61             19     5.8   \n",
       "2         907        Premium Sliced Bacon       106             12    20.0   \n",
       "3         907        Premium Sliced Bacon       106             12    20.0   \n",
       "4        1000                    Apricots        18             10    12.9   \n",
       "\n",
       "   order_id  user_id  order_number  orders_day_of_week  order_hour_of_day  \\\n",
       "0   3139998      138            28                   6                 11   \n",
       "1   1977647      138            30                   6                 17   \n",
       "2   3160996      138             1                   5                 13   \n",
       "3   2254091      138            10                   5                 14   \n",
       "4    505689      138             9                   6                 12   \n",
       "\n",
       "   ...  First Name  Last Name  Gender      State Age date_joined Dependents  \\\n",
       "0  ...     Charles        Cox    Male  Minnesota  81    8/1/2019          1   \n",
       "1  ...     Charles        Cox    Male  Minnesota  81    8/1/2019          1   \n",
       "2  ...     Charles        Cox    Male  Minnesota  81    8/1/2019          1   \n",
       "3  ...     Charles        Cox    Male  Minnesota  81    8/1/2019          1   \n",
       "4  ...     Charles        Cox    Male  Minnesota  81    8/1/2019          1   \n",
       "\n",
       "  Family Status income  merge  \n",
       "0       married  49620   both  \n",
       "1       married  49620   both  \n",
       "2       married  49620   both  \n",
       "3       married  49620   both  \n",
       "4       married  49620   both  \n",
       "\n",
       "[5 rows x 35 columns]"
      ]
     },
     "execution_count": 4,
     "metadata": {},
     "output_type": "execute_result"
    }
   ],
   "source": [
    "#check data \n",
    "df.head()"
   ]
  },
  {
   "cell_type": "code",
   "execution_count": 5,
   "id": "ee8081c4",
   "metadata": {},
   "outputs": [
    {
     "data": {
      "text/plain": [
       "(30629741, 35)"
      ]
     },
     "execution_count": 5,
     "metadata": {},
     "output_type": "execute_result"
    }
   ],
   "source": [
    "#check shape\n",
    "df.shape"
   ]
  },
  {
   "cell_type": "code",
   "execution_count": 6,
   "id": "789871a7",
   "metadata": {},
   "outputs": [
    {
     "data": {
      "text/plain": [
       "Index(['product_id', 'product_name', 'aisle_id', 'department_id', 'prices',\n",
       "       'order_id', 'user_id', 'order_number', 'orders_day_of_week',\n",
       "       'order_hour_of_day', 'days_since_prior_order', 'add_to_cart_order',\n",
       "       'reordered', '_merge', '_exist', 'price_range_loc', 'busiest_day',\n",
       "       'Busiest_days', 'busiest_period_of_day', 'max_order', 'loyalty_flag',\n",
       "       'avg_price', 'spending_flag', 'days_since_prior_median',\n",
       "       'frequency_flag', 'First Name', 'Last Name', 'Gender', 'State', 'Age',\n",
       "       'date_joined', 'Dependents', 'Family Status', 'income', 'merge'],\n",
       "      dtype='object')"
      ]
     },
     "execution_count": 6,
     "metadata": {},
     "output_type": "execute_result"
    }
   ],
   "source": [
    "#check columns\n",
    "df.columns"
   ]
  },
  {
   "cell_type": "markdown",
   "id": "0fbb43b0",
   "metadata": {},
   "source": [
    "#2 - PII in data\n",
    "Potential security issue in the data is the PII including First name and the Last name."
   ]
  },
  {
   "cell_type": "code",
   "execution_count": 7,
   "id": "ac8be604",
   "metadata": {},
   "outputs": [
    {
     "data": {
      "text/plain": [
       "California              630308\n",
       "Pennsylvania            629833\n",
       "Rhode Island            621341\n",
       "Georgia                 620618\n",
       "Arizona                 619810\n",
       "North Carolina          618268\n",
       "Oklahoma                615354\n",
       "Minnesota               613699\n",
       "New Mexico              611481\n",
       "Maine                   610309\n",
       "Alaska                  610279\n",
       "Wyoming                 609764\n",
       "Massachusetts           608964\n",
       "Arkansas                608035\n",
       "Mississippi             607362\n",
       "Texas                   605608\n",
       "North Dakota            605317\n",
       "Nevada                  605083\n",
       "Missouri                604383\n",
       "Virginia                603563\n",
       "South Dakota            602744\n",
       "Kansas                  602396\n",
       "Louisiana               602384\n",
       "Alabama                 602310\n",
       "South Carolina          602049\n",
       "New York                601409\n",
       "Washington              601352\n",
       "Montana                 600639\n",
       "Michigan                600593\n",
       "Kentucky                600323\n",
       "Colorado                599764\n",
       "Oregon                  599340\n",
       "Delaware                598973\n",
       "Indiana                 595942\n",
       "Hawaii                  593851\n",
       "Ohio                    593507\n",
       "Connecticut             593375\n",
       "Illinois                591762\n",
       "Iowa                    591579\n",
       "New Jersey              591386\n",
       "Maryland                589991\n",
       "Florida                 589376\n",
       "Nebraska                589136\n",
       "Wisconsin               585866\n",
       "New Hampshire           585187\n",
       "Tennessee               581885\n",
       "Vermont                 580221\n",
       "West Virginia           578118\n",
       "Utah                    577919\n",
       "District of Columbia    574765\n",
       "Idaho                   572220\n",
       "Name: State, dtype: int64"
      ]
     },
     "execution_count": 7,
     "metadata": {},
     "output_type": "execute_result"
    }
   ],
   "source": [
    "#check states\n",
    "df['State'].value_counts()"
   ]
  },
  {
   "cell_type": "code",
   "execution_count": 8,
   "id": "201a1176",
   "metadata": {},
   "outputs": [],
   "source": [
    "# create regions column \n",
    "result = []\n",
    "\n",
    "for value in df['State']:\n",
    "  if value == 'Maine' or value =='New Hampshire' or value == 'Vermont'or value =='Massachusetts' or value == 'Rhode Island' or value == 'New York' or value == 'Pennsylvania' or value == 'New Jersey' or value == 'Connecticut':\n",
    "    result.append('Northeast')\n",
    "  elif value == 'Wisconsin' or value == 'Michigan' or value =='Illinois' or value =='Indiana' or value =='Ohio'or value == 'North Dakota' or value == 'South Dakota' or value == 'Nebraska' or value == 'Kansas' or value =='Minnesota' or value == 'Iowa' or value == 'Missouri':\n",
    "    result.append('Midwest')\n",
    "  elif value =='Delaware' or value =='Maryland' or value == 'District of Columbia' or value =='Virginia' or value=='West Virginia' or value=='North Carolina' or value=='South Carolina' or value=='Georgia' or value =='Florida' or value =='Kentucky' or value =='Tennessee' or value=='Mississippi' or value =='Alabama' or value=='Oklahoma' or value=='Texas' or value=='Arkansas' or value=='Louisiana':\n",
    "    result.append('South')\n",
    "  else:\n",
    "        result.append('West')"
   ]
  },
  {
   "cell_type": "code",
   "execution_count": 9,
   "id": "f2876259",
   "metadata": {},
   "outputs": [],
   "source": [
    "#add regions column to df\n",
    "df['Regions'] =result"
   ]
  },
  {
   "cell_type": "code",
   "execution_count": 10,
   "id": "8fc0b68f",
   "metadata": {
    "scrolled": true
   },
   "outputs": [
    {
     "data": {
      "text/plain": [
       "South        10198982\n",
       "West          7831810\n",
       "Midwest       7176924\n",
       "Northeast     5422025\n",
       "Name: Regions, dtype: int64"
      ]
     },
     "execution_count": 10,
     "metadata": {},
     "output_type": "execute_result"
    }
   ],
   "source": [
    "#check value counts\n",
    "df['Regions'].value_counts()"
   ]
  },
  {
   "cell_type": "code",
   "execution_count": 11,
   "id": "7e6f5722",
   "metadata": {},
   "outputs": [
    {
     "data": {
      "image/png": "[encoded data removed]",
      "text/plain": [
       "<Figure size 640x480 with 1 Axes>"
      ]
     },
     "metadata": {},
     "output_type": "display_data"
    }
   ],
   "source": [
    "#bar chart for region \n",
    "bar_regions = df['Regions'].value_counts().plot.bar(color =['blue', 'green', 'purple','yellow'])"
   ]
  },
  {
   "cell_type": "code",
   "execution_count": 12,
   "id": "8d46f45f",
   "metadata": {},
   "outputs": [],
   "source": [
    "#export bar graph\n",
    "bar_regions.figure.savefig(os.path.join(path, '04 Analysis','Visualizations', 'regions_bar.png'))"
   ]
  },
  {
   "cell_type": "code",
   "execution_count": 13,
   "id": "113cbd87",
   "metadata": {},
   "outputs": [],
   "source": [
    "#crosstab between regions and spending flag\n",
    "crosstab = pd.crosstab(df['Regions'], df['spending_flag'], dropna = False)"
   ]
  },
  {
   "cell_type": "code",
   "execution_count": 14,
   "id": "13304d2e",
   "metadata": {},
   "outputs": [],
   "source": [
    "#send crosstab to excel\n",
    "crosstab.to_clipboard()"
   ]
  },
  {
   "cell_type": "markdown",
   "id": "7876831e",
   "metadata": {},
   "source": [
    "#3b. difference in spending habits between regions\n",
    "- according to crosstab data, there is a large difference between low spenders and high spenders in each regions. Only 2 percent of the total spenders and high spenders in each regions. Also, the South region has most spenders compared to other regions."
   ]
  },
  {
   "cell_type": "code",
   "execution_count": 15,
   "id": "ec63fdeb",
   "metadata": {},
   "outputs": [],
   "source": [
    "#create exclusion flag for low activity customer\n",
    "df.loc[df['order_number'] <5, 'exclusion_flag'] = 'low activity customers'"
   ]
  },
  {
   "cell_type": "code",
   "execution_count": 16,
   "id": "2d4b796a",
   "metadata": {},
   "outputs": [
    {
     "data": {
      "text/plain": [
       "low activity customers    7553641\n",
       "Name: exclusion_flag, dtype: int64"
      ]
     },
     "execution_count": 16,
     "metadata": {},
     "output_type": "execute_result"
    }
   ],
   "source": [
    "#check value counts\n",
    "df['exclusion_flag'].value_counts()"
   ]
  },
  {
   "cell_type": "code",
   "execution_count": 17,
   "id": "4f41d5ee",
   "metadata": {},
   "outputs": [],
   "source": [
    "#4 create subset of low activity customers\n",
    "df_excluded =  df[df['exclusion_flag']=='low activity customers']"
   ]
  },
  {
   "cell_type": "code",
   "execution_count": 18,
   "id": "0b4816fc",
   "metadata": {
    "scrolled": true
   },
   "outputs": [
    {
     "data": {
      "text/plain": [
       "(7553641, 37)"
      ]
     },
     "execution_count": 18,
     "metadata": {},
     "output_type": "execute_result"
    }
   ],
   "source": [
    "#check shape\n",
    "df_excluded.shape"
   ]
  },
  {
   "cell_type": "code",
   "execution_count": 19,
   "id": "a07504a4",
   "metadata": {},
   "outputs": [
    {
     "data": {
      "text/html": [
       "<div>\n",
       "<style scoped>\n",
       "    .dataframe tbody tr th:only-of-type {\n",
       "        vertical-align: middle;\n",
       "    }\n",
       "\n",
       "    .dataframe tbody tr th {\n",
       "        vertical-align: top;\n",
       "    }\n",
       "\n",
       "    .dataframe thead th {\n",
       "        text-align: right;\n",
       "    }\n",
       "</style>\n",
       "<table border=\"1\" class=\"dataframe\">\n",
       "  <thead>\n",
       "    <tr style=\"text-align: right;\">\n",
       "      <th></th>\n",
       "      <th>product_id</th>\n",
       "      <th>product_name</th>\n",
       "      <th>aisle_id</th>\n",
       "      <th>department_id</th>\n",
       "      <th>prices</th>\n",
       "      <th>order_id</th>\n",
       "      <th>user_id</th>\n",
       "      <th>order_number</th>\n",
       "      <th>orders_day_of_week</th>\n",
       "      <th>order_hour_of_day</th>\n",
       "      <th>...</th>\n",
       "      <th>Gender</th>\n",
       "      <th>State</th>\n",
       "      <th>Age</th>\n",
       "      <th>date_joined</th>\n",
       "      <th>Dependents</th>\n",
       "      <th>Family Status</th>\n",
       "      <th>income</th>\n",
       "      <th>merge</th>\n",
       "      <th>Regions</th>\n",
       "      <th>exclusion_flag</th>\n",
       "    </tr>\n",
       "  </thead>\n",
       "  <tbody>\n",
       "    <tr>\n",
       "      <th>0</th>\n",
       "      <td>1</td>\n",
       "      <td>Chocolate Sandwich Cookies</td>\n",
       "      <td>61</td>\n",
       "      <td>19</td>\n",
       "      <td>5.8</td>\n",
       "      <td>3139998</td>\n",
       "      <td>138</td>\n",
       "      <td>28</td>\n",
       "      <td>6</td>\n",
       "      <td>11</td>\n",
       "      <td>...</td>\n",
       "      <td>Male</td>\n",
       "      <td>Minnesota</td>\n",
       "      <td>81</td>\n",
       "      <td>8/1/2019</td>\n",
       "      <td>1</td>\n",
       "      <td>married</td>\n",
       "      <td>49620</td>\n",
       "      <td>both</td>\n",
       "      <td>Midwest</td>\n",
       "      <td>NaN</td>\n",
       "    </tr>\n",
       "    <tr>\n",
       "      <th>1</th>\n",
       "      <td>1</td>\n",
       "      <td>Chocolate Sandwich Cookies</td>\n",
       "      <td>61</td>\n",
       "      <td>19</td>\n",
       "      <td>5.8</td>\n",
       "      <td>1977647</td>\n",
       "      <td>138</td>\n",
       "      <td>30</td>\n",
       "      <td>6</td>\n",
       "      <td>17</td>\n",
       "      <td>...</td>\n",
       "      <td>Male</td>\n",
       "      <td>Minnesota</td>\n",
       "      <td>81</td>\n",
       "      <td>8/1/2019</td>\n",
       "      <td>1</td>\n",
       "      <td>married</td>\n",
       "      <td>49620</td>\n",
       "      <td>both</td>\n",
       "      <td>Midwest</td>\n",
       "      <td>NaN</td>\n",
       "    </tr>\n",
       "    <tr>\n",
       "      <th>2</th>\n",
       "      <td>907</td>\n",
       "      <td>Premium Sliced Bacon</td>\n",
       "      <td>106</td>\n",
       "      <td>12</td>\n",
       "      <td>20.0</td>\n",
       "      <td>3160996</td>\n",
       "      <td>138</td>\n",
       "      <td>1</td>\n",
       "      <td>5</td>\n",
       "      <td>13</td>\n",
       "      <td>...</td>\n",
       "      <td>Male</td>\n",
       "      <td>Minnesota</td>\n",
       "      <td>81</td>\n",
       "      <td>8/1/2019</td>\n",
       "      <td>1</td>\n",
       "      <td>married</td>\n",
       "      <td>49620</td>\n",
       "      <td>both</td>\n",
       "      <td>Midwest</td>\n",
       "      <td>low activity customers</td>\n",
       "    </tr>\n",
       "    <tr>\n",
       "      <th>3</th>\n",
       "      <td>907</td>\n",
       "      <td>Premium Sliced Bacon</td>\n",
       "      <td>106</td>\n",
       "      <td>12</td>\n",
       "      <td>20.0</td>\n",
       "      <td>2254091</td>\n",
       "      <td>138</td>\n",
       "      <td>10</td>\n",
       "      <td>5</td>\n",
       "      <td>14</td>\n",
       "      <td>...</td>\n",
       "      <td>Male</td>\n",
       "      <td>Minnesota</td>\n",
       "      <td>81</td>\n",
       "      <td>8/1/2019</td>\n",
       "      <td>1</td>\n",
       "      <td>married</td>\n",
       "      <td>49620</td>\n",
       "      <td>both</td>\n",
       "      <td>Midwest</td>\n",
       "      <td>NaN</td>\n",
       "    </tr>\n",
       "    <tr>\n",
       "      <th>4</th>\n",
       "      <td>1000</td>\n",
       "      <td>Apricots</td>\n",
       "      <td>18</td>\n",
       "      <td>10</td>\n",
       "      <td>12.9</td>\n",
       "      <td>505689</td>\n",
       "      <td>138</td>\n",
       "      <td>9</td>\n",
       "      <td>6</td>\n",
       "      <td>12</td>\n",
       "      <td>...</td>\n",
       "      <td>Male</td>\n",
       "      <td>Minnesota</td>\n",
       "      <td>81</td>\n",
       "      <td>8/1/2019</td>\n",
       "      <td>1</td>\n",
       "      <td>married</td>\n",
       "      <td>49620</td>\n",
       "      <td>both</td>\n",
       "      <td>Midwest</td>\n",
       "      <td>NaN</td>\n",
       "    </tr>\n",
       "  </tbody>\n",
       "</table>\n",
       "<p>5 rows × 37 columns</p>\n",
       "</div>"
      ],
      "text/plain": [
       "   product_id                product_name  aisle_id  department_id  prices  \\\n",
       "0           1  Chocolate Sandwich Cookies        61             19     5.8   \n",
       "1           1  Chocolate Sandwich Cookies        61             19     5.8   \n",
       "2         907        Premium Sliced Bacon       106             12    20.0   \n",
       "3         907        Premium Sliced Bacon       106             12    20.0   \n",
       "4        1000                    Apricots        18             10    12.9   \n",
       "\n",
       "   order_id  user_id  order_number  orders_day_of_week  order_hour_of_day  \\\n",
       "0   3139998      138            28                   6                 11   \n",
       "1   1977647      138            30                   6                 17   \n",
       "2   3160996      138             1                   5                 13   \n",
       "3   2254091      138            10                   5                 14   \n",
       "4    505689      138             9                   6                 12   \n",
       "\n",
       "   ...  Gender      State  Age date_joined Dependents Family Status income  \\\n",
       "0  ...    Male  Minnesota   81    8/1/2019          1       married  49620   \n",
       "1  ...    Male  Minnesota   81    8/1/2019          1       married  49620   \n",
       "2  ...    Male  Minnesota   81    8/1/2019          1       married  49620   \n",
       "3  ...    Male  Minnesota   81    8/1/2019          1       married  49620   \n",
       "4  ...    Male  Minnesota   81    8/1/2019          1       married  49620   \n",
       "\n",
       "  merge  Regions          exclusion_flag  \n",
       "0  both  Midwest                     NaN  \n",
       "1  both  Midwest                     NaN  \n",
       "2  both  Midwest  low activity customers  \n",
       "3  both  Midwest                     NaN  \n",
       "4  both  Midwest                     NaN  \n",
       "\n",
       "[5 rows x 37 columns]"
      ]
     },
     "execution_count": 19,
     "metadata": {},
     "output_type": "execute_result"
    }
   ],
   "source": [
    "df.head()"
   ]
  },
  {
   "cell_type": "code",
   "execution_count": 20,
   "id": "db68b44a",
   "metadata": {},
   "outputs": [],
   "source": [
    "#export subset\n",
    "df_excluded.to_pickle(os.path.join(path, '02 Data','Prepared Data', 'ords_prods_customer_excluded.pkl'))"
   ]
  },
  {
   "cell_type": "code",
   "execution_count": 21,
   "id": "c8673bbb",
   "metadata": {},
   "outputs": [],
   "source": [
    "#drop excluded customers from the final data\n",
    "df_new = df.drop(df_excluded.index)"
   ]
  },
  {
   "cell_type": "code",
   "execution_count": 22,
   "id": "203fd67d",
   "metadata": {
    "scrolled": true
   },
   "outputs": [
    {
     "data": {
      "text/plain": [
       "(23076100, 37)"
      ]
     },
     "execution_count": 22,
     "metadata": {},
     "output_type": "execute_result"
    }
   ],
   "source": [
    "#check shape\n",
    "df_new.shape"
   ]
  },
  {
   "cell_type": "code",
   "execution_count": 23,
   "id": "02c4de76",
   "metadata": {},
   "outputs": [
    {
     "data": {
      "text/html": [
       "<div>\n",
       "<style scoped>\n",
       "    .dataframe tbody tr th:only-of-type {\n",
       "        vertical-align: middle;\n",
       "    }\n",
       "\n",
       "    .dataframe tbody tr th {\n",
       "        vertical-align: top;\n",
       "    }\n",
       "\n",
       "    .dataframe thead th {\n",
       "        text-align: right;\n",
       "    }\n",
       "</style>\n",
       "<table border=\"1\" class=\"dataframe\">\n",
       "  <thead>\n",
       "    <tr style=\"text-align: right;\">\n",
       "      <th></th>\n",
       "      <th>product_id</th>\n",
       "      <th>aisle_id</th>\n",
       "      <th>department_id</th>\n",
       "      <th>prices</th>\n",
       "      <th>order_id</th>\n",
       "      <th>user_id</th>\n",
       "      <th>order_number</th>\n",
       "      <th>orders_day_of_week</th>\n",
       "      <th>order_hour_of_day</th>\n",
       "      <th>days_since_prior_order</th>\n",
       "      <th>add_to_cart_order</th>\n",
       "      <th>reordered</th>\n",
       "      <th>max_order</th>\n",
       "      <th>avg_price</th>\n",
       "      <th>days_since_prior_median</th>\n",
       "      <th>Age</th>\n",
       "      <th>Dependents</th>\n",
       "      <th>income</th>\n",
       "    </tr>\n",
       "  </thead>\n",
       "  <tbody>\n",
       "    <tr>\n",
       "      <th>count</th>\n",
       "      <td>2.307610e+07</td>\n",
       "      <td>2.307610e+07</td>\n",
       "      <td>2.307610e+07</td>\n",
       "      <td>2.307610e+07</td>\n",
       "      <td>2.307610e+07</td>\n",
       "      <td>2.307610e+07</td>\n",
       "      <td>2.307610e+07</td>\n",
       "      <td>2.307610e+07</td>\n",
       "      <td>2.307610e+07</td>\n",
       "      <td>2.307610e+07</td>\n",
       "      <td>2.307610e+07</td>\n",
       "      <td>2.307610e+07</td>\n",
       "      <td>2.307610e+07</td>\n",
       "      <td>2.307610e+07</td>\n",
       "      <td>2.307610e+07</td>\n",
       "      <td>2.307610e+07</td>\n",
       "      <td>2.307610e+07</td>\n",
       "      <td>2.307610e+07</td>\n",
       "    </tr>\n",
       "    <tr>\n",
       "      <th>mean</th>\n",
       "      <td>2.559405e+04</td>\n",
       "      <td>7.118230e+01</td>\n",
       "      <td>9.926666e+00</td>\n",
       "      <td>1.175683e+01</td>\n",
       "      <td>1.710449e+06</td>\n",
       "      <td>1.029628e+05</td>\n",
       "      <td>2.192653e+01</td>\n",
       "      <td>2.746968e+00</td>\n",
       "      <td>1.336273e+01</td>\n",
       "      <td>1.009216e+01</td>\n",
       "      <td>8.379973e+00</td>\n",
       "      <td>6.931114e-01</td>\n",
       "      <td>3.843879e+01</td>\n",
       "      <td>1.166085e+01</td>\n",
       "      <td>8.959865e+00</td>\n",
       "      <td>4.946644e+01</td>\n",
       "      <td>1.501825e+00</td>\n",
       "      <td>9.991669e+04</td>\n",
       "    </tr>\n",
       "    <tr>\n",
       "      <th>std</th>\n",
       "      <td>1.407624e+04</td>\n",
       "      <td>3.823009e+01</td>\n",
       "      <td>6.282801e+00</td>\n",
       "      <td>4.831819e+02</td>\n",
       "      <td>9.873089e+05</td>\n",
       "      <td>5.940643e+04</td>\n",
       "      <td>1.769979e+01</td>\n",
       "      <td>2.083987e+00</td>\n",
       "      <td>4.245123e+00</td>\n",
       "      <td>8.141386e+00</td>\n",
       "      <td>7.163239e+00</td>\n",
       "      <td>4.612028e-01</td>\n",
       "      <td>2.499288e+01</td>\n",
       "      <td>7.475165e+01</td>\n",
       "      <td>5.792920e+00</td>\n",
       "      <td>1.847818e+01</td>\n",
       "      <td>1.118732e+00</td>\n",
       "      <td>4.333860e+04</td>\n",
       "    </tr>\n",
       "    <tr>\n",
       "      <th>min</th>\n",
       "      <td>1.000000e+00</td>\n",
       "      <td>1.000000e+00</td>\n",
       "      <td>1.000000e+00</td>\n",
       "      <td>1.000000e+00</td>\n",
       "      <td>3.000000e+00</td>\n",
       "      <td>1.000000e+00</td>\n",
       "      <td>5.000000e+00</td>\n",
       "      <td>0.000000e+00</td>\n",
       "      <td>0.000000e+00</td>\n",
       "      <td>0.000000e+00</td>\n",
       "      <td>1.000000e+00</td>\n",
       "      <td>0.000000e+00</td>\n",
       "      <td>5.000000e+00</td>\n",
       "      <td>1.000000e+00</td>\n",
       "      <td>0.000000e+00</td>\n",
       "      <td>1.800000e+01</td>\n",
       "      <td>0.000000e+00</td>\n",
       "      <td>2.590300e+04</td>\n",
       "    </tr>\n",
       "    <tr>\n",
       "      <th>25%</th>\n",
       "      <td>1.353500e+04</td>\n",
       "      <td>3.100000e+01</td>\n",
       "      <td>4.000000e+00</td>\n",
       "      <td>4.200000e+00</td>\n",
       "      <td>8.561650e+05</td>\n",
       "      <td>5.156600e+04</td>\n",
       "      <td>9.000000e+00</td>\n",
       "      <td>1.000000e+00</td>\n",
       "      <td>1.000000e+01</td>\n",
       "      <td>5.000000e+00</td>\n",
       "      <td>3.000000e+00</td>\n",
       "      <td>0.000000e+00</td>\n",
       "      <td>1.800000e+01</td>\n",
       "      <td>7.400221e+00</td>\n",
       "      <td>5.000000e+00</td>\n",
       "      <td>3.400000e+01</td>\n",
       "      <td>1.000000e+00</td>\n",
       "      <td>6.757900e+04</td>\n",
       "    </tr>\n",
       "    <tr>\n",
       "      <th>50%</th>\n",
       "      <td>2.524700e+04</td>\n",
       "      <td>8.300000e+01</td>\n",
       "      <td>9.000000e+00</td>\n",
       "      <td>7.400000e+00</td>\n",
       "      <td>1.710643e+06</td>\n",
       "      <td>1.025210e+05</td>\n",
       "      <td>1.600000e+01</td>\n",
       "      <td>3.000000e+00</td>\n",
       "      <td>1.300000e+01</td>\n",
       "      <td>7.000000e+00</td>\n",
       "      <td>6.000000e+00</td>\n",
       "      <td>1.000000e+00</td>\n",
       "      <td>3.300000e+01</td>\n",
       "      <td>7.825000e+00</td>\n",
       "      <td>7.000000e+00</td>\n",
       "      <td>4.900000e+01</td>\n",
       "      <td>2.000000e+00</td>\n",
       "      <td>9.682600e+04</td>\n",
       "    </tr>\n",
       "    <tr>\n",
       "      <th>75%</th>\n",
       "      <td>3.793800e+04</td>\n",
       "      <td>1.070000e+02</td>\n",
       "      <td>1.600000e+01</td>\n",
       "      <td>1.130000e+01</td>\n",
       "      <td>2.565257e+06</td>\n",
       "      <td>1.543280e+05</td>\n",
       "      <td>2.900000e+01</td>\n",
       "      <td>5.000000e+00</td>\n",
       "      <td>1.600000e+01</td>\n",
       "      <td>1.300000e+01</td>\n",
       "      <td>1.100000e+01</td>\n",
       "      <td>1.000000e+00</td>\n",
       "      <td>5.200000e+01</td>\n",
       "      <td>8.240640e+00</td>\n",
       "      <td>1.100000e+01</td>\n",
       "      <td>6.500000e+01</td>\n",
       "      <td>3.000000e+00</td>\n",
       "      <td>1.282150e+05</td>\n",
       "    </tr>\n",
       "    <tr>\n",
       "      <th>max</th>\n",
       "      <td>4.968800e+04</td>\n",
       "      <td>1.340000e+02</td>\n",
       "      <td>2.100000e+01</td>\n",
       "      <td>9.999900e+04</td>\n",
       "      <td>3.421082e+06</td>\n",
       "      <td>2.062090e+05</td>\n",
       "      <td>9.900000e+01</td>\n",
       "      <td>6.000000e+00</td>\n",
       "      <td>2.300000e+01</td>\n",
       "      <td>3.000000e+01</td>\n",
       "      <td>1.370000e+02</td>\n",
       "      <td>1.000000e+00</td>\n",
       "      <td>9.900000e+01</td>\n",
       "      <td>1.500694e+04</td>\n",
       "      <td>3.000000e+01</td>\n",
       "      <td>8.100000e+01</td>\n",
       "      <td>3.000000e+00</td>\n",
       "      <td>5.939010e+05</td>\n",
       "    </tr>\n",
       "  </tbody>\n",
       "</table>\n",
       "</div>"
      ],
      "text/plain": [
       "         product_id      aisle_id  department_id        prices      order_id  \\\n",
       "count  2.307610e+07  2.307610e+07   2.307610e+07  2.307610e+07  2.307610e+07   \n",
       "mean   2.559405e+04  7.118230e+01   9.926666e+00  1.175683e+01  1.710449e+06   \n",
       "std    1.407624e+04  3.823009e+01   6.282801e+00  4.831819e+02  9.873089e+05   \n",
       "min    1.000000e+00  1.000000e+00   1.000000e+00  1.000000e+00  3.000000e+00   \n",
       "25%    1.353500e+04  3.100000e+01   4.000000e+00  4.200000e+00  8.561650e+05   \n",
       "50%    2.524700e+04  8.300000e+01   9.000000e+00  7.400000e+00  1.710643e+06   \n",
       "75%    3.793800e+04  1.070000e+02   1.600000e+01  1.130000e+01  2.565257e+06   \n",
       "max    4.968800e+04  1.340000e+02   2.100000e+01  9.999900e+04  3.421082e+06   \n",
       "\n",
       "            user_id  order_number  orders_day_of_week  order_hour_of_day  \\\n",
       "count  2.307610e+07  2.307610e+07        2.307610e+07       2.307610e+07   \n",
       "mean   1.029628e+05  2.192653e+01        2.746968e+00       1.336273e+01   \n",
       "std    5.940643e+04  1.769979e+01        2.083987e+00       4.245123e+00   \n",
       "min    1.000000e+00  5.000000e+00        0.000000e+00       0.000000e+00   \n",
       "25%    5.156600e+04  9.000000e+00        1.000000e+00       1.000000e+01   \n",
       "50%    1.025210e+05  1.600000e+01        3.000000e+00       1.300000e+01   \n",
       "75%    1.543280e+05  2.900000e+01        5.000000e+00       1.600000e+01   \n",
       "max    2.062090e+05  9.900000e+01        6.000000e+00       2.300000e+01   \n",
       "\n",
       "       days_since_prior_order  add_to_cart_order     reordered     max_order  \\\n",
       "count            2.307610e+07       2.307610e+07  2.307610e+07  2.307610e+07   \n",
       "mean             1.009216e+01       8.379973e+00  6.931114e-01  3.843879e+01   \n",
       "std              8.141386e+00       7.163239e+00  4.612028e-01  2.499288e+01   \n",
       "min              0.000000e+00       1.000000e+00  0.000000e+00  5.000000e+00   \n",
       "25%              5.000000e+00       3.000000e+00  0.000000e+00  1.800000e+01   \n",
       "50%              7.000000e+00       6.000000e+00  1.000000e+00  3.300000e+01   \n",
       "75%              1.300000e+01       1.100000e+01  1.000000e+00  5.200000e+01   \n",
       "max              3.000000e+01       1.370000e+02  1.000000e+00  9.900000e+01   \n",
       "\n",
       "          avg_price  days_since_prior_median           Age    Dependents  \\\n",
       "count  2.307610e+07             2.307610e+07  2.307610e+07  2.307610e+07   \n",
       "mean   1.166085e+01             8.959865e+00  4.946644e+01  1.501825e+00   \n",
       "std    7.475165e+01             5.792920e+00  1.847818e+01  1.118732e+00   \n",
       "min    1.000000e+00             0.000000e+00  1.800000e+01  0.000000e+00   \n",
       "25%    7.400221e+00             5.000000e+00  3.400000e+01  1.000000e+00   \n",
       "50%    7.825000e+00             7.000000e+00  4.900000e+01  2.000000e+00   \n",
       "75%    8.240640e+00             1.100000e+01  6.500000e+01  3.000000e+00   \n",
       "max    1.500694e+04             3.000000e+01  8.100000e+01  3.000000e+00   \n",
       "\n",
       "             income  \n",
       "count  2.307610e+07  \n",
       "mean   9.991669e+04  \n",
       "std    4.333860e+04  \n",
       "min    2.590300e+04  \n",
       "25%    6.757900e+04  \n",
       "50%    9.682600e+04  \n",
       "75%    1.282150e+05  \n",
       "max    5.939010e+05  "
      ]
     },
     "execution_count": 23,
     "metadata": {},
     "output_type": "execute_result"
    }
   ],
   "source": [
    "df_new.describe()"
   ]
  },
  {
   "cell_type": "code",
   "execution_count": 24,
   "id": "32e30ab4",
   "metadata": {},
   "outputs": [],
   "source": [
    "#5 new flag - age group \n",
    "df_new.loc[df_new['Age'] <39, 'age group'] = 'younger range'\n",
    "df_new.loc[(df_new['Age'] >38)&(df_new['Age']<60), 'age group'] = 'mid range'\n",
    "df_new.loc[df_new['Age'] >59, 'age group'] = 'older range'"
   ]
  },
  {
   "cell_type": "code",
   "execution_count": 25,
   "id": "9fe03c20",
   "metadata": {},
   "outputs": [
    {
     "data": {
      "text/plain": [
       "older range      7876519\n",
       "mid range        7616253\n",
       "younger range    7583328\n",
       "Name: age group, dtype: int64"
      ]
     },
     "execution_count": 25,
     "metadata": {},
     "output_type": "execute_result"
    }
   ],
   "source": [
    "#check value counts\n",
    "df_new['age group'].value_counts()"
   ]
  },
  {
   "cell_type": "code",
   "execution_count": 26,
   "id": "c0c51247",
   "metadata": {},
   "outputs": [],
   "source": [
    "#5 new flag - parental status based on number of dependents - single adult \n",
    "df_new.loc[(df_new['age group'] =='younger range')&(df_new['Dependents']==0),'Parental Status']= 'Single Adult'"
   ]
  },
  {
   "cell_type": "code",
   "execution_count": 27,
   "id": "59d3f144",
   "metadata": {},
   "outputs": [],
   "source": [
    "#5 new flag - parental status based on number of dependents - single adult \n",
    "df_new.loc[(df_new['age group'] =='mid range')&(df_new['Dependents']==0),'Parental Status']= 'Single Adult'"
   ]
  },
  {
   "cell_type": "code",
   "execution_count": 28,
   "id": "52e77868",
   "metadata": {},
   "outputs": [],
   "source": [
    "#5 new flag - parental status based on number of dependents - single adult \n",
    "df_new.loc[(df_new['age group'] =='older range')&(df_new['Dependents']==0),'Parental Status']= 'Single Adult'"
   ]
  },
  {
   "cell_type": "code",
   "execution_count": 29,
   "id": "91dad2ef",
   "metadata": {},
   "outputs": [],
   "source": [
    "#5 new flag - parental status based on number of dependents - young parent\n",
    "df_new.loc[(df_new['age group'] =='younger range')&(df_new['Dependents']>0),'Parental Status']= 'Young Parent'"
   ]
  },
  {
   "cell_type": "code",
   "execution_count": 30,
   "id": "55a562d1",
   "metadata": {},
   "outputs": [],
   "source": [
    "#5 new flag - parental status based on number of dependents - older parent\n",
    "df_new.loc[(df_new['age group'] =='mid range')&(df_new['Dependents']>0),'Parental Status']= 'Older Parent'"
   ]
  },
  {
   "cell_type": "code",
   "execution_count": 31,
   "id": "9ea4d951",
   "metadata": {},
   "outputs": [],
   "source": [
    "#5 new flag - parental status based on number of dependents - older parent\n",
    "df_new.loc[(df_new['age group'] =='older range')&(df_new['Dependents']>0),'Parental Status']= 'Older Parent'"
   ]
  },
  {
   "cell_type": "code",
   "execution_count": 32,
   "id": "0c983c43",
   "metadata": {},
   "outputs": [
    {
     "data": {
      "text/plain": [
       "Older Parent    11590319\n",
       "Single Adult     5766770\n",
       "Young Parent     5719011\n",
       "Name: Parental Status, dtype: int64"
      ]
     },
     "execution_count": 32,
     "metadata": {},
     "output_type": "execute_result"
    }
   ],
   "source": [
    "#check value counts\n",
    "df_new['Parental Status'].value_counts()"
   ]
  },
  {
   "cell_type": "code",
   "execution_count": 33,
   "id": "120c6cfa",
   "metadata": {},
   "outputs": [
    {
     "data": {
      "text/plain": [
       "Parental Status\n",
       "Older Parent    114089.476022\n",
       "Single Adult    100307.530632\n",
       "Young Parent     70799.608260\n",
       "Name: income, dtype: float64"
      ]
     },
     "execution_count": 33,
     "metadata": {},
     "output_type": "execute_result"
    }
   ],
   "source": [
    "#average income for each parental status\n",
    "df_new.groupby('Parental Status')['income'].mean()"
   ]
  },
  {
   "cell_type": "code",
   "execution_count": 34,
   "id": "20fb4c0b",
   "metadata": {},
   "outputs": [],
   "source": [
    "# create column for avg income for each parental status\n",
    "df_new['Avg Income by Parental Status'] = df_new.groupby(['Parental Status'])['income'].transform(np.mean)"
   ]
  },
  {
   "cell_type": "code",
   "execution_count": 35,
   "id": "b3e9b2d5",
   "metadata": {},
   "outputs": [
    {
     "data": {
      "image/png": "[encoded data removed]",
      "text/plain": [
       "<Figure size 640x480 with 1 Axes>"
      ]
     },
     "metadata": {},
     "output_type": "display_data"
    }
   ],
   "source": [
    "#6 create visualization for the parental status\n",
    "bar = df_new['Parental Status'].value_counts().plot.bar(color =['purple', 'red', 'pink'])"
   ]
  },
  {
   "cell_type": "code",
   "execution_count": 36,
   "id": "2db2bb1b",
   "metadata": {},
   "outputs": [],
   "source": [
    "#export bar chart for parental status\n",
    "bar.figure.savefig(os.path.join(path, '04 Analysis','Visualizations', 'bar_parental_status.png'))"
   ]
  },
  {
   "cell_type": "code",
   "execution_count": 37,
   "id": "7298d097",
   "metadata": {
    "scrolled": true
   },
   "outputs": [
    {
     "data": {
      "text/html": [
       "<div>\n",
       "<style scoped>\n",
       "    .dataframe tbody tr th:only-of-type {\n",
       "        vertical-align: middle;\n",
       "    }\n",
       "\n",
       "    .dataframe tbody tr th {\n",
       "        vertical-align: top;\n",
       "    }\n",
       "\n",
       "    .dataframe thead tr th {\n",
       "        text-align: left;\n",
       "    }\n",
       "\n",
       "    .dataframe thead tr:last-of-type th {\n",
       "        text-align: right;\n",
       "    }\n",
       "</style>\n",
       "<table border=\"1\" class=\"dataframe\">\n",
       "  <thead>\n",
       "    <tr>\n",
       "      <th></th>\n",
       "      <th colspan=\"3\" halign=\"left\">max_order</th>\n",
       "    </tr>\n",
       "    <tr>\n",
       "      <th></th>\n",
       "      <th>mean</th>\n",
       "      <th>min</th>\n",
       "      <th>max</th>\n",
       "    </tr>\n",
       "    <tr>\n",
       "      <th>Parental Status</th>\n",
       "      <th></th>\n",
       "      <th></th>\n",
       "      <th></th>\n",
       "    </tr>\n",
       "  </thead>\n",
       "  <tbody>\n",
       "    <tr>\n",
       "      <th>Older Parent</th>\n",
       "      <td>38.252795</td>\n",
       "      <td>5</td>\n",
       "      <td>99</td>\n",
       "    </tr>\n",
       "    <tr>\n",
       "      <th>Single Adult</th>\n",
       "      <td>38.728395</td>\n",
       "      <td>5</td>\n",
       "      <td>99</td>\n",
       "    </tr>\n",
       "    <tr>\n",
       "      <th>Young Parent</th>\n",
       "      <td>38.523710</td>\n",
       "      <td>5</td>\n",
       "      <td>99</td>\n",
       "    </tr>\n",
       "  </tbody>\n",
       "</table>\n",
       "</div>"
      ],
      "text/plain": [
       "                 max_order        \n",
       "                      mean min max\n",
       "Parental Status                   \n",
       "Older Parent     38.252795   5  99\n",
       "Single Adult     38.728395   5  99\n",
       "Young Parent     38.523710   5  99"
      ]
     },
     "execution_count": 37,
     "metadata": {},
     "output_type": "execute_result"
    }
   ],
   "source": [
    "#7 aggregate max, mean and min for usage frequency\n",
    "df_new.groupby('Parental Status').agg({'max_order':['mean','min','max']})"
   ]
  },
  {
   "cell_type": "code",
   "execution_count": 38,
   "id": "416bebe0",
   "metadata": {},
   "outputs": [
    {
     "data": {
      "text/html": [
       "<div>\n",
       "<style scoped>\n",
       "    .dataframe tbody tr th:only-of-type {\n",
       "        vertical-align: middle;\n",
       "    }\n",
       "\n",
       "    .dataframe tbody tr th {\n",
       "        vertical-align: top;\n",
       "    }\n",
       "\n",
       "    .dataframe thead tr th {\n",
       "        text-align: left;\n",
       "    }\n",
       "\n",
       "    .dataframe thead tr:last-of-type th {\n",
       "        text-align: right;\n",
       "    }\n",
       "</style>\n",
       "<table border=\"1\" class=\"dataframe\">\n",
       "  <thead>\n",
       "    <tr>\n",
       "      <th></th>\n",
       "      <th colspan=\"3\" halign=\"left\">avg_price</th>\n",
       "    </tr>\n",
       "    <tr>\n",
       "      <th></th>\n",
       "      <th>mean</th>\n",
       "      <th>min</th>\n",
       "      <th>max</th>\n",
       "    </tr>\n",
       "    <tr>\n",
       "      <th>Parental Status</th>\n",
       "      <th></th>\n",
       "      <th></th>\n",
       "      <th></th>\n",
       "    </tr>\n",
       "  </thead>\n",
       "  <tbody>\n",
       "    <tr>\n",
       "      <th>Older Parent</th>\n",
       "      <td>11.541233</td>\n",
       "      <td>1.2625</td>\n",
       "      <td>7414.485185</td>\n",
       "    </tr>\n",
       "    <tr>\n",
       "      <th>Single Adult</th>\n",
       "      <td>11.901731</td>\n",
       "      <td>1.0000</td>\n",
       "      <td>15006.940000</td>\n",
       "    </tr>\n",
       "    <tr>\n",
       "      <th>Young Parent</th>\n",
       "      <td>11.660389</td>\n",
       "      <td>1.0000</td>\n",
       "      <td>10209.987755</td>\n",
       "    </tr>\n",
       "  </tbody>\n",
       "</table>\n",
       "</div>"
      ],
      "text/plain": [
       "                 avg_price                      \n",
       "                      mean     min           max\n",
       "Parental Status                                 \n",
       "Older Parent     11.541233  1.2625   7414.485185\n",
       "Single Adult     11.901731  1.0000  15006.940000\n",
       "Young Parent     11.660389  1.0000  10209.987755"
      ]
     },
     "execution_count": 38,
     "metadata": {},
     "output_type": "execute_result"
    }
   ],
   "source": [
    "#7 aggregate max, mean and min for expendature\n",
    "df_new.groupby('Parental Status').agg({'avg_price':['mean','min','max']})"
   ]
  },
  {
   "cell_type": "code",
   "execution_count": 39,
   "id": "653ddaa2",
   "metadata": {},
   "outputs": [],
   "source": [
    "#8 crosstab between region and department id \n",
    "crosstab = pd.crosstab(df_new['department_id'], df_new['Regions'], dropna = False)"
   ]
  },
  {
   "cell_type": "code",
   "execution_count": 40,
   "id": "b7c1344a",
   "metadata": {},
   "outputs": [],
   "source": [
    "#send crosstab to excel\n",
    "crosstab.to_clipboard()"
   ]
  },
  {
   "cell_type": "markdown",
   "id": "54ac9295",
   "metadata": {},
   "source": [
    "#8 any link between region and department id\n",
    "according to the crosstab between regions and department id, the most popular department id was the same for all four regions, showing that regions doesn't change the popularity of the department. "
   ]
  },
  {
   "cell_type": "code",
   "execution_count": 41,
   "id": "fd382726",
   "metadata": {},
   "outputs": [],
   "source": [
    "# import dept wrangle csv\n",
    "df_dept=pd.read_csv(os.path.join(path,'02 Data', 'Prepared Data','department_wrangled.csv'),index_col=0)"
   ]
  },
  {
   "cell_type": "code",
   "execution_count": 42,
   "id": "39bfd3b7",
   "metadata": {},
   "outputs": [
    {
     "data": {
      "text/html": [
       "<div>\n",
       "<style scoped>\n",
       "    .dataframe tbody tr th:only-of-type {\n",
       "        vertical-align: middle;\n",
       "    }\n",
       "\n",
       "    .dataframe tbody tr th {\n",
       "        vertical-align: top;\n",
       "    }\n",
       "\n",
       "    .dataframe thead th {\n",
       "        text-align: right;\n",
       "    }\n",
       "</style>\n",
       "<table border=\"1\" class=\"dataframe\">\n",
       "  <thead>\n",
       "    <tr style=\"text-align: right;\">\n",
       "      <th></th>\n",
       "      <th>department</th>\n",
       "    </tr>\n",
       "  </thead>\n",
       "  <tbody>\n",
       "    <tr>\n",
       "      <th>1</th>\n",
       "      <td>frozen</td>\n",
       "    </tr>\n",
       "    <tr>\n",
       "      <th>2</th>\n",
       "      <td>other</td>\n",
       "    </tr>\n",
       "    <tr>\n",
       "      <th>3</th>\n",
       "      <td>bakery</td>\n",
       "    </tr>\n",
       "    <tr>\n",
       "      <th>4</th>\n",
       "      <td>produce</td>\n",
       "    </tr>\n",
       "    <tr>\n",
       "      <th>5</th>\n",
       "      <td>alcohol</td>\n",
       "    </tr>\n",
       "    <tr>\n",
       "      <th>6</th>\n",
       "      <td>international</td>\n",
       "    </tr>\n",
       "    <tr>\n",
       "      <th>7</th>\n",
       "      <td>beverages</td>\n",
       "    </tr>\n",
       "    <tr>\n",
       "      <th>8</th>\n",
       "      <td>pets</td>\n",
       "    </tr>\n",
       "    <tr>\n",
       "      <th>9</th>\n",
       "      <td>dry goods pasta</td>\n",
       "    </tr>\n",
       "    <tr>\n",
       "      <th>10</th>\n",
       "      <td>bulk</td>\n",
       "    </tr>\n",
       "    <tr>\n",
       "      <th>11</th>\n",
       "      <td>personal care</td>\n",
       "    </tr>\n",
       "    <tr>\n",
       "      <th>12</th>\n",
       "      <td>meat seafood</td>\n",
       "    </tr>\n",
       "    <tr>\n",
       "      <th>13</th>\n",
       "      <td>pantry</td>\n",
       "    </tr>\n",
       "    <tr>\n",
       "      <th>14</th>\n",
       "      <td>breakfast</td>\n",
       "    </tr>\n",
       "    <tr>\n",
       "      <th>15</th>\n",
       "      <td>canned goods</td>\n",
       "    </tr>\n",
       "    <tr>\n",
       "      <th>16</th>\n",
       "      <td>dairy eggs</td>\n",
       "    </tr>\n",
       "    <tr>\n",
       "      <th>17</th>\n",
       "      <td>household</td>\n",
       "    </tr>\n",
       "    <tr>\n",
       "      <th>18</th>\n",
       "      <td>babies</td>\n",
       "    </tr>\n",
       "    <tr>\n",
       "      <th>19</th>\n",
       "      <td>snacks</td>\n",
       "    </tr>\n",
       "    <tr>\n",
       "      <th>20</th>\n",
       "      <td>deli</td>\n",
       "    </tr>\n",
       "    <tr>\n",
       "      <th>21</th>\n",
       "      <td>missing</td>\n",
       "    </tr>\n",
       "  </tbody>\n",
       "</table>\n",
       "</div>"
      ],
      "text/plain": [
       "         department\n",
       "1            frozen\n",
       "2             other\n",
       "3            bakery\n",
       "4           produce\n",
       "5           alcohol\n",
       "6     international\n",
       "7         beverages\n",
       "8              pets\n",
       "9   dry goods pasta\n",
       "10             bulk\n",
       "11    personal care\n",
       "12     meat seafood\n",
       "13           pantry\n",
       "14        breakfast\n",
       "15     canned goods\n",
       "16       dairy eggs\n",
       "17        household\n",
       "18           babies\n",
       "19           snacks\n",
       "20             deli\n",
       "21          missing"
      ]
     },
     "execution_count": 42,
     "metadata": {},
     "output_type": "execute_result"
    }
   ],
   "source": [
    "df_dept"
   ]
  },
  {
   "cell_type": "code",
   "execution_count": 43,
   "id": "869f9bbd",
   "metadata": {},
   "outputs": [
    {
     "data": {
      "text/plain": [
       "([<matplotlib.axis.XTick at 0x7fe5bd0c6cd0>,\n",
       "  <matplotlib.axis.XTick at 0x7fe5bd0c6ca0>,\n",
       "  <matplotlib.axis.XTick at 0x7fe692d341c0>,\n",
       "  <matplotlib.axis.XTick at 0x7fe6946e4190>,\n",
       "  <matplotlib.axis.XTick at 0x7fe6946e48e0>,\n",
       "  <matplotlib.axis.XTick at 0x7fdf9abfd070>,\n",
       "  <matplotlib.axis.XTick at 0x7fdf9abfd7c0>,\n",
       "  <matplotlib.axis.XTick at 0x7fdf9abf5070>,\n",
       "  <matplotlib.axis.XTick at 0x7fdf9abf56a0>,\n",
       "  <matplotlib.axis.XTick at 0x7fdf9abfda60>,\n",
       "  <matplotlib.axis.XTick at 0x7fe5bd0c6b80>,\n",
       "  <matplotlib.axis.XTick at 0x7fdf9abf5d60>,\n",
       "  <matplotlib.axis.XTick at 0x7fdf9abed190>,\n",
       "  <matplotlib.axis.XTick at 0x7fdf9abed8e0>,\n",
       "  <matplotlib.axis.XTick at 0x7fdf9ac05070>,\n",
       "  <matplotlib.axis.XTick at 0x7fdf9ac057c0>,\n",
       "  <matplotlib.axis.XTick at 0x7fdf9ac05f10>,\n",
       "  <matplotlib.axis.XTick at 0x7fdf9abedb50>,\n",
       "  <matplotlib.axis.XTick at 0x7fe6946e4280>,\n",
       "  <matplotlib.axis.XTick at 0x7fdf9ac06220>,\n",
       "  <matplotlib.axis.XTick at 0x7fdf9ac06970>,\n",
       "  <matplotlib.axis.XTick at 0x7fdf9ac0d100>],\n",
       " [Text(0, 0, ''),\n",
       "  Text(0, 0, ''),\n",
       "  Text(0, 0, ''),\n",
       "  Text(0, 0, ''),\n",
       "  Text(0, 0, ''),\n",
       "  Text(0, 0, ''),\n",
       "  Text(0, 0, ''),\n",
       "  Text(0, 0, ''),\n",
       "  Text(0, 0, ''),\n",
       "  Text(0, 0, ''),\n",
       "  Text(0, 0, ''),\n",
       "  Text(0, 0, ''),\n",
       "  Text(0, 0, ''),\n",
       "  Text(0, 0, ''),\n",
       "  Text(0, 0, ''),\n",
       "  Text(0, 0, ''),\n",
       "  Text(0, 0, ''),\n",
       "  Text(0, 0, ''),\n",
       "  Text(0, 0, ''),\n",
       "  Text(0, 0, ''),\n",
       "  Text(0, 0, ''),\n",
       "  Text(0, 0, '')])"
      ]
     },
     "execution_count": 43,
     "metadata": {},
     "output_type": "execute_result"
    },
    {
     "data": {
      "image/png": "[encoded data removed]",
      "text/plain": [
       "<Figure size 640x480 with 1 Axes>"
      ]
     },
     "metadata": {},
     "output_type": "display_data"
    }
   ],
   "source": [
    "#histogram of department_id\n",
    "hist = df_new['department_id'].plot.hist(bins = 50)\n",
    "plt.xticks(range(22))"
   ]
  },
  {
   "cell_type": "code",
   "execution_count": 44,
   "id": "13770976",
   "metadata": {},
   "outputs": [],
   "source": [
    "#export histogram\n",
    "hist.figure.savefig(os.path.join(path, '04 Analysis','Visualizations', 'histogram_dept_id.png'))"
   ]
  },
  {
   "cell_type": "code",
   "execution_count": 45,
   "id": "f124112c",
   "metadata": {},
   "outputs": [],
   "source": [
    "#crosstab between spending flag and loyalty\n",
    "crosstab_new = pd.crosstab(df['loyalty_flag'], df['spending_flag'], dropna = False)"
   ]
  },
  {
   "cell_type": "code",
   "execution_count": 47,
   "id": "cbfeac04",
   "metadata": {},
   "outputs": [],
   "source": [
    "#crosstab between department_id and loyalty\n",
    "crosstab_dept = pd.crosstab(df['loyalty_flag'], df['orders_day_of_week'], dropna = False)"
   ]
  },
  {
   "cell_type": "code",
   "execution_count": 49,
   "id": "e8e31d6c",
   "metadata": {},
   "outputs": [],
   "source": [
    "#crosstab between loyalty flag and frequency flag\n",
    "crosstab_loyalty_frequency = pd.crosstab(df['loyalty_flag'], df['frequency_flag'], dropna = False)"
   ]
  },
  {
   "cell_type": "code",
   "execution_count": 58,
   "id": "44794b75",
   "metadata": {},
   "outputs": [],
   "source": [
    "#crosstab between family status and frequency\n",
    "crosstab_fs_frequency= pd.crosstab(df['Family Status'], df['frequency_flag'], dropna = False)"
   ]
  },
  {
   "cell_type": "code",
   "execution_count": 61,
   "id": "cb1edd9f",
   "metadata": {},
   "outputs": [],
   "source": [
    "#export final data\n",
    "df_new.to_pickle(os.path.join(path, '02 Data','Prepared Data', 'final_data.pkl'))"
   ]
  }
 ],
 "metadata": {
  "kernelspec": {
   "display_name": "Python 3 (ipykernel)",
   "language": "python",
   "name": "python3"
  },
  "language_info": {
   "codemirror_mode": {
    "name": "ipython",
    "version": 3
   },
   "file_extension": ".py",
   "mimetype": "text/x-python",
   "name": "python",
   "nbconvert_exporter": "python",
   "pygments_lexer": "ipython3",
   "version": "3.9.13"
  }
 },
 "nbformat": 4,
 "nbformat_minor": 5
}
