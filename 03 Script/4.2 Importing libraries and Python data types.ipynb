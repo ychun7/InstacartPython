{
 "cells": [
  {
   "cell_type": "markdown",
   "id": "c8f00a01",
   "metadata": {},
   "source": [
    "#01. Importing Liabraries"
   ]
  },
  {
   "cell_type": "code",
   "execution_count": 1,
   "id": "cf8df13e",
   "metadata": {},
   "outputs": [],
   "source": [
    "# Import Liabraries\n",
    "import pandas as pd\n",
    "import numpy as np\n",
    "import os"
   ]
  },
  {
   "cell_type": "markdown",
   "id": "6de019a4",
   "metadata": {},
   "source": [
    "#02. Data Types"
   ]
  },
  {
   "cell_type": "code",
   "execution_count": 18,
   "id": "7f793bb9",
   "metadata": {},
   "outputs": [],
   "source": [
    "x=45"
   ]
  },
  {
   "cell_type": "code",
   "execution_count": 19,
   "id": "335d9c03",
   "metadata": {},
   "outputs": [],
   "source": [
    "y=55"
   ]
  },
  {
   "cell_type": "code",
   "execution_count": 20,
   "id": "0f7fdf7f",
   "metadata": {},
   "outputs": [
    {
     "data": {
      "text/plain": [
       "100"
      ]
     },
     "execution_count": 20,
     "metadata": {},
     "output_type": "execute_result"
    }
   ],
   "source": [
    "x+y"
   ]
  },
  {
   "cell_type": "code",
   "execution_count": 21,
   "id": "7dc6760f",
   "metadata": {},
   "outputs": [],
   "source": [
    "z=20"
   ]
  },
  {
   "cell_type": "code",
   "execution_count": 23,
   "id": "365ced79",
   "metadata": {},
   "outputs": [
    {
     "data": {
      "text/plain": [
       "100"
      ]
     },
     "execution_count": 23,
     "metadata": {},
     "output_type": "execute_result"
    }
   ],
   "source": [
    "120-z"
   ]
  },
  {
   "cell_type": "code",
   "execution_count": 24,
   "id": "864c0d07",
   "metadata": {},
   "outputs": [
    {
     "data": {
      "text/plain": [
       "100"
      ]
     },
     "execution_count": 24,
     "metadata": {},
     "output_type": "execute_result"
    }
   ],
   "source": [
    "z*5"
   ]
  },
  {
   "cell_type": "code",
   "execution_count": 25,
   "id": "587fd4a2",
   "metadata": {},
   "outputs": [],
   "source": [
    "a=1.234"
   ]
  },
  {
   "cell_type": "code",
   "execution_count": 26,
   "id": "fdf9497f",
   "metadata": {},
   "outputs": [],
   "source": [
    "b=5.678"
   ]
  },
  {
   "cell_type": "code",
   "execution_count": 27,
   "id": "10ceb213",
   "metadata": {},
   "outputs": [
    {
     "data": {
      "text/plain": [
       "4.60129659643436"
      ]
     },
     "execution_count": 27,
     "metadata": {},
     "output_type": "execute_result"
    }
   ],
   "source": [
    "b/a"
   ]
  },
  {
   "cell_type": "code",
   "execution_count": 35,
   "id": "4e33646b",
   "metadata": {},
   "outputs": [],
   "source": [
    "c='coding '"
   ]
  },
  {
   "cell_type": "code",
   "execution_count": 36,
   "id": "2e08a161",
   "metadata": {},
   "outputs": [],
   "source": [
    "d='python '"
   ]
  },
  {
   "cell_type": "code",
   "execution_count": 37,
   "id": "66c18a1d",
   "metadata": {},
   "outputs": [],
   "source": [
    "e='is '"
   ]
  },
  {
   "cell_type": "code",
   "execution_count": 38,
   "id": "9cb9797c",
   "metadata": {},
   "outputs": [],
   "source": [
    "f='fun '"
   ]
  },
  {
   "cell_type": "code",
   "execution_count": 39,
   "id": "ac4a8781",
   "metadata": {},
   "outputs": [
    {
     "data": {
      "text/plain": [
       "'python coding is fun '"
      ]
     },
     "execution_count": 39,
     "metadata": {},
     "output_type": "execute_result"
    }
   ],
   "source": [
    "d+c+e+f"
   ]
  },
  {
   "cell_type": "code",
   "execution_count": 40,
   "id": "9f457419",
   "metadata": {},
   "outputs": [
    {
     "data": {
      "text/plain": [
       "'is python coding fun ?'"
      ]
     },
     "execution_count": 40,
     "metadata": {},
     "output_type": "execute_result"
    }
   ],
   "source": [
    "e+d+c+f+('?')"
   ]
  },
  {
   "cell_type": "code",
   "execution_count": 42,
   "id": "91ea9bbb",
   "metadata": {},
   "outputs": [
    {
     "data": {
      "text/plain": [
       "'python python python python python python python python python python python python python python python python python python python python python python python python python python python python python python python python python python python python python python python python python python python python python python python python python python python python python python python python python python python python python python python python python python python python python python python python python python python python python python python python python python python python python python python python python python python python python python python python python python python python '"
      ]
     },
     "execution_count": 42,
     "metadata": {},
     "output_type": "execute_result"
    }
   ],
   "source": [
    "#bonus\n",
    "d*100"
   ]
  }
 ],
 "metadata": {
  "kernelspec": {
   "display_name": "Python 3 (ipykernel)",
   "language": "python",
   "name": "python3"
  },
  "language_info": {
   "codemirror_mode": {
    "name": "ipython",
    "version": 3
   },
   "file_extension": ".py",
   "mimetype": "text/x-python",
   "name": "python",
   "nbconvert_exporter": "python",
   "pygments_lexer": "ipython3",
   "version": "3.9.13"
  }
 },
 "nbformat": 4,
 "nbformat_minor": 5
}
